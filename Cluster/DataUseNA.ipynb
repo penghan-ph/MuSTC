{
 "cells": [
  {
   "cell_type": "code",
   "execution_count": 7,
   "metadata": {},
   "outputs": [],
   "source": [
    "import numpy as np\n",
    "import pandas as pd\n",
    "import math as m\n",
    "import os\n",
    "\n",
    "DATASET = 'ATLANTIC1'"
   ]
  },
  {
   "cell_type": "code",
   "execution_count": 8,
   "metadata": {},
   "outputs": [],
   "source": [
    "def e_new(dis, theta2):\n",
    "    val = m.e**(-dis*dis/(theta2))\n",
    "    if(val < 0.5):\n",
    "        return 0\n",
    "    else:\n",
    "        return val"
   ]
  },
  {
   "cell_type": "code",
   "execution_count": 9,
   "metadata": {},
   "outputs": [
    {
     "name": "stdout",
     "output_type": "stream",
     "text": [
      "(7305, 5238)\n",
      "(5238,)\n",
      "6 0\n",
      "(7, 5238)\n",
      "[[0. 0. 0. ... 0. 0. 0.]\n",
      " [0. 0. 0. ... 0. 0. 0.]\n",
      " [0. 0. 0. ... 1. 1. 1.]\n",
      " ...\n",
      " [0. 0. 0. ... 0. 0. 0.]\n",
      " [0. 0. 0. ... 0. 0. 0.]\n",
      " [0. 0. 0. ... 0. 0. 0.]]\n",
      "(5238, 2)\n",
      "13397.0\n",
      "90860 23666751.796425268\n"
     ]
    }
   ],
   "source": [
    "data = np.load('./data/{}/{}.npz'.format(DATASET,DATASET))['data']\n",
    "print(data.shape)\n",
    "\n",
    "classinfo_raw = np.load('./data/{}/{}_CLASSINFO.npz'.format(DATASET,DATASET))['classinfo']\n",
    "print(classinfo_raw.shape)\n",
    "classinfo_max = np.max(classinfo_raw)\n",
    "classinfo_min = np.min(classinfo_raw)\n",
    "print(classinfo_max, classinfo_min)\n",
    "classinfo = np.zeros((classinfo_max-classinfo_min+1, data.shape[1]))\n",
    "print(classinfo.shape)\n",
    "\n",
    "for i in range(data.shape[1]):\n",
    "    classinfo[classinfo_raw[i]-classinfo_min,i] = 1\n",
    "\n",
    "print(classinfo)\n",
    "\n",
    "np.savez('./GCN_data/AGCRN/{}.npz'.format(DATASET), data=data, classinfo=classinfo)\n",
    "\n",
    "corordinate = np.load('./data/{}/{}.npz'.format(DATASET,DATASET))['corordinate']\n",
    "print(corordinate.shape)\n",
    "theta2 = ((corordinate[:,0].max()-corordinate[:,0].min()))**2 + ((corordinate[:,1].max()-corordinate[:,1].min()))**2\n",
    "print(theta2)\n",
    "\n",
    "adj_mat = np.zeros((data.shape[1], data.shape[1]))\n",
    "for i in range(data.shape[1]):\n",
    "    for j in range(data.shape[1]):\n",
    "        adj_mat[i,j] = e_new(m.sqrt((corordinate[i,0]-corordinate[j,0])**2 + (corordinate[i,1]-corordinate[j,1])**2), theta2)\n",
    "\n",
    "t2 = np.where(adj_mat, 0, 1)\n",
    "print(np.sum(t2), np.sum(adj_mat))\n",
    "\n",
    "data_csv = pd.DataFrame(data = data)\n",
    "data_csv.to_csv('./GCN_data/STGCN/{}/vel.csv'.format(DATASET.lower()), header = None, index = None)\n",
    "\n",
    "adj_mat_csv = pd.DataFrame(data = adj_mat)\n",
    "adj_mat_csv.to_csv('./GCN_data/STGCN/{}/adj_mat.csv'.format(DATASET.lower()), header = None, index = None)\n",
    "\n",
    "class_mat_csv = pd.DataFrame(data = classinfo)\n",
    "class_mat_csv.to_csv('./GCN_data/STGCN/{}/class_mat.csv'.format(DATASET.lower()), header = None, index = None)"
   ]
  },
  {
   "attachments": {},
   "cell_type": "markdown",
   "metadata": {},
   "source": [
    "# 测试"
   ]
  },
  {
   "cell_type": "code",
   "execution_count": 10,
   "metadata": {},
   "outputs": [
    {
     "name": "stdout",
     "output_type": "stream",
     "text": [
      "(7305, 5238) (7, 5238)\n",
      "[[0. 0. 0. ... 0. 0. 0.]\n",
      " [0. 0. 0. ... 0. 0. 0.]\n",
      " [0. 0. 0. ... 1. 1. 1.]\n",
      " ...\n",
      " [0. 0. 0. ... 0. 0. 0.]\n",
      " [0. 0. 0. ... 0. 0. 0.]\n",
      " [0. 0. 0. ... 0. 0. 0.]]\n",
      "0.0\n",
      "1.0\n"
     ]
    }
   ],
   "source": [
    "DATASET = 'ATLANTIC1'\n",
    "\n",
    "data = np.load('./GCN_data/AGCRN/{}.npz'.format(DATASET))['data']\n",
    "classinfo = np.load('./GCN_data/AGCRN/{}.npz'.format(DATASET))['classinfo']\n",
    "\n",
    "print(data.shape, classinfo.shape)\n",
    "print(classinfo)\n",
    "print(classinfo.min())\n",
    "print(classinfo.max())"
   ]
  }
 ],
 "metadata": {
  "kernelspec": {
   "display_name": "base",
   "language": "python",
   "name": "python3"
  },
  "language_info": {
   "codemirror_mode": {
    "name": "ipython",
    "version": 3
   },
   "file_extension": ".py",
   "mimetype": "text/x-python",
   "name": "python",
   "nbconvert_exporter": "python",
   "pygments_lexer": "ipython3",
   "version": "3.7.6"
  },
  "orig_nbformat": 4
 },
 "nbformat": 4,
 "nbformat_minor": 2
}
