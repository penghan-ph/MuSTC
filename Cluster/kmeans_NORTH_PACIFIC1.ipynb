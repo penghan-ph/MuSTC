{
 "cells": [
  {
   "cell_type": "markdown",
   "metadata": {},
   "source": [
    "# 载入数据"
   ]
  },
  {
   "cell_type": "code",
   "execution_count": 1,
   "metadata": {},
   "outputs": [],
   "source": [
    "# https://www.zhihu.com/question/61789927/answer/1855506933\n",
    "import numpy as np\n",
    "import matplotlib.pyplot as plt\n",
    "from sklearn.model_selection import ShuffleSplit\n",
    "from copy import deepcopy\n",
    "\n",
    "import matplotlib.pyplot as plt\n",
    "import matplotlib\n",
    "\n",
    "RATIO = 4\n",
    "DATASET = 'PACIFIC1'\n",
    "\n",
    "data = np.load('./data/{}/{}.npz'.format(DATASET, DATASET))\n",
    "sst_old = data['data']\n",
    "corordinate = data['corordinate']\n",
    "\n",
    "COUNT = corordinate.shape[0]\n",
    "if DATASET[0] == 'G':\n",
    "    FROM_LON, END_LON, FROM_LAT, END_LAT, SCALE = 0, 360//int(DATASET[-1]), 0, 180//int(DATASET[-1]), RATIO*int(DATASET[-1])\n",
    "    NEW_LAT = END_LAT - FROM_LAT\n",
    "    NEW_LON = END_LON - FROM_LON\n",
    "elif DATASET[0] == 'S':\n",
    "    FROM_LON_LOAD, END_LON_LOAD, NEW_LON_LOAD, FROM_LAT_LOAD, END_LAT_LOAD, NEW_LAT_LOAD, SCALE_LOAD, RATIO_LOAD = data['info']\n",
    "    FROM_LON = FROM_LON_LOAD * RATIO_LOAD // SCALE_LOAD\n",
    "    END_LON = END_LON_LOAD * RATIO_LOAD // SCALE_LOAD\n",
    "    NEW_LON = NEW_LON_LOAD * RATIO_LOAD // SCALE_LOAD\n",
    "    FROM_LAT = FROM_LAT_LOAD * RATIO_LOAD // SCALE_LOAD\n",
    "    END_LAT = END_LAT_LOAD * RATIO_LOAD // SCALE_LOAD\n",
    "    NEW_LAT = NEW_LAT_LOAD * RATIO_LOAD // SCALE_LOAD\n",
    "    SCALE = SCALE_LOAD\n",
    "else:\n",
    "    FROM_LON, END_LON, FROM_LAT, END_LAT, SCALE = data['info']\n",
    "    NEW_LAT = END_LAT - FROM_LAT\n",
    "    NEW_LON = END_LON - FROM_LON\n",
    "\n",
    "\n",
    "\n",
    "data1 = np.load('./data/{}/best_encoder_{}{}.npz'.format(DATASET, DATASET[0], DATASET[-1]))\n",
    "encoder_old = data1['adj']\n",
    "\n",
    "data2 = np.load('./data/{}/best_attention_score_{}{}.npz'.format(DATASET, DATASET[0], DATASET[-1]))\n",
    "adj_old = data2['adj']"
   ]
  },
  {
   "cell_type": "markdown",
   "metadata": {},
   "source": [
    "# 处理数据"
   ]
  },
  {
   "cell_type": "code",
   "execution_count": 2,
   "metadata": {},
   "outputs": [
    {
     "name": "stdout",
     "output_type": "stream",
     "text": [
      "130 156 26\n",
      "150 230 80\n",
      "4\n",
      "(1708, 2) (7305, 1708) (40, 1708, 16) (40, 1708, 1708)\n",
      "(1708, 2) (1708, 7305) (1708, 16) (1708, 1708)\n",
      "26.022499442100525 -1.7999999523162842\n",
      "345.2688 -541.31433\n",
      "0.22415584 0.0012341442\n"
     ]
    }
   ],
   "source": [
    "print(FROM_LAT, END_LAT, NEW_LAT)\n",
    "print(FROM_LON, END_LON, NEW_LON)\n",
    "print(SCALE)\n",
    "\n",
    "print(corordinate.shape, sst_old.shape, encoder_old.shape, adj_old.shape)\n",
    "\n",
    "sst = np.swapaxes(sst_old, 0, 1)\n",
    "encoder = np.sum(encoder_old, axis=0)\n",
    "adj = np.sum(adj_old, axis=0)\n",
    "print(corordinate.shape, sst.shape, encoder.shape, adj.shape)\n",
    "\n",
    "print(sst.max(), sst.min())\n",
    "print(encoder.max(), encoder.min())\n",
    "print(adj.max(), adj.min())\n",
    "\n",
    "n_cluster = 4"
   ]
  },
  {
   "cell_type": "markdown",
   "metadata": {},
   "source": [
    "# kmeans聚类"
   ]
  },
  {
   "cell_type": "markdown",
   "metadata": {},
   "source": [
    "## 1.sst数据"
   ]
  },
  {
   "cell_type": "code",
   "execution_count": 3,
   "metadata": {},
   "outputs": [
    {
     "name": "stdout",
     "output_type": "stream",
     "text": [
      "------------------------\n",
      "n_cluster=4:\n",
      "(1708,)\n"
     ]
    }
   ],
   "source": [
    "from sklearn.cluster import KMeans\n",
    "knnModel_sst = KMeans(n_clusters=n_cluster, random_state=10)\n",
    "print('------------------------')\n",
    "print('n_cluster={}:'.format(n_cluster))\n",
    "knnModel_sst.fit(sst)\n",
    "label_sst = knnModel_sst.labels_\n",
    "\n",
    "print(label_sst.shape)\n",
    "\n",
    "label_sst_new = np.zeros((NEW_LAT,NEW_LON))\n",
    "\n",
    "for i in range(NEW_LAT):\n",
    "    for j in range(NEW_LON):\n",
    "        label_sst_new[i,j] = -1\n",
    "for i in range(COUNT):\n",
    "    label_sst_new[int(corordinate[i,1]+0.2),int(corordinate[i,0]+0.2)] = label_sst[i]"
   ]
  },
  {
   "cell_type": "code",
   "execution_count": 4,
   "metadata": {},
   "outputs": [
    {
     "data": {
      "image/png": "[encoded data removed]",
      "text/plain": [
       "<Figure size 432x360 with 1 Axes>"
      ]
     },
     "metadata": {
      "needs_background": "light"
     },
     "output_type": "display_data"
    }
   ],
   "source": [
    "fig_sst = plt.figure(figsize=(6,5))\n",
    "ax_sst = fig_sst.add_subplot(1,1,1)\n",
    "\n",
    "ax_sst.matshow(label_sst_new, norm = matplotlib.colors.Normalize(vmin=-1, vmax=n_cluster-1, clip=False),cmap=plt.cm.tab20c_r)\n",
    "\n",
    "ax_sst.set_xticks([i - FROM_LON for i in range(FROM_LON, (END_LON+360)+1, 10)])\n",
    "ax_sst.set_xticklabels([str((i%360) if i %360 < 180 else 360-(i%360))+\"$\\degree$\"+('E' if (i%360)<180 and (i%360)>0 else ('W' if (i%360)>180 else '')) for i in range(FROM_LON*SCALE//RATIO, (END_LON+360)*SCALE//RATIO+1, 10*SCALE//RATIO)])\n",
    "ax_sst.set_yticks([i - FROM_LAT for i in range(FROM_LAT, END_LAT+1, 5)])\n",
    "ax_sst.set_yticklabels([str(i-90 if i>90 else 90-i)+\"$\\degree$\"+('N' if i>90 else ('S' if i < 90 else '')) for i in range(FROM_LAT*SCALE//RATIO, END_LAT*SCALE//RATIO+1, 5*SCALE//RATIO)])\n",
    "ax_sst.xaxis.tick_bottom()\n",
    "\n",
    "plt.xlim((0, NEW_LON))\n",
    "plt.ylim((0, NEW_LAT))\n",
    "\n",
    "ax_sst.spines['right'].set_color('none')\n",
    "ax_sst.spines['left'].set_color('none')\n",
    "ax_sst.spines['top'].set_color('none')\n",
    "ax_sst.spines['bottom'].set_color('none')\n",
    "\n",
    "ax_sst.set_xlabel(\"LONGITUDE\")\n",
    "ax_sst.set_ylabel(\"LATITUDE\")\n",
    "ax_sst.set_title(\"Original SST Data, Class =\"+str(n_cluster))\n",
    "plt.savefig(\"pics/{}_kmeans_sst.pdf\".format(DATASET))"
   ]
  },
  {
   "cell_type": "markdown",
   "metadata": {},
   "source": [
    "## 2.encoder数据"
   ]
  },
  {
   "cell_type": "code",
   "execution_count": 5,
   "metadata": {},
   "outputs": [
    {
     "name": "stdout",
     "output_type": "stream",
     "text": [
      "------------------------\n",
      "n_cluster=4:\n",
      "(1708,)\n"
     ]
    }
   ],
   "source": [
    "from sklearn.cluster import KMeans\n",
    "knnModel_encoder = KMeans(n_clusters=n_cluster, random_state=10)\n",
    "print('------------------------')\n",
    "print('n_cluster={}:'.format(n_cluster))\n",
    "knnModel_encoder.fit(encoder)\n",
    "label_encoder = knnModel_encoder.labels_\n",
    "\n",
    "print(label_encoder.shape)\n",
    "\n",
    "label_encoder_new = np.zeros((NEW_LAT,NEW_LON))\n",
    "\n",
    "for i in range(NEW_LAT):\n",
    "    for j in range(NEW_LON):\n",
    "        label_encoder_new[i,j] = -1\n",
    "for i in range(COUNT):\n",
    "    label_encoder_new[int(corordinate[i,1]+0.2),int(corordinate[i,0]+0.2)] = label_encoder[i]"
   ]
  },
  {
   "cell_type": "code",
   "execution_count": 6,
   "metadata": {},
   "outputs": [
    {
     "data": {
      "image/png": "[encoded data removed]",
      "text/plain": [
       "<Figure size 432x360 with 1 Axes>"
      ]
     },
     "metadata": {
      "needs_background": "light"
     },
     "output_type": "display_data"
    }
   ],
   "source": [
    "fig_encoder = plt.figure(figsize=(6,5))\n",
    "ax_encoder = fig_encoder.add_subplot(1,1,1)\n",
    "\n",
    "ax_encoder.matshow(label_encoder_new, norm = matplotlib.colors.Normalize(vmin=-1, vmax=n_cluster-1, clip=False),cmap=plt.cm.tab20c_r)\n",
    "\n",
    "ax_encoder.set_xticks([i - FROM_LON for i in range(FROM_LON, (END_LON+360)+1, 10)])\n",
    "ax_encoder.set_xticklabels([str((i%360) if i %360 < 180 else 360-(i%360))+\"$\\degree$\"+('E' if (i%360)<180 and (i%360)>0 else ('W' if (i%360)>180 else '')) for i in range(FROM_LON*SCALE//RATIO, (END_LON+360)*SCALE//RATIO+1, 10*SCALE//RATIO)])\n",
    "ax_encoder.set_yticks([i - FROM_LAT for i in range(FROM_LAT, END_LAT+1, 5)])\n",
    "ax_encoder.set_yticklabels([str(i-90 if i>90 else 90-i)+\"$\\degree$\"+('N' if i>90 else ('S' if i < 90 else '')) for i in range(FROM_LAT*SCALE//RATIO, END_LAT*SCALE//RATIO+1, 5*SCALE//RATIO)])\n",
    "ax_encoder.xaxis.tick_bottom()\n",
    "\n",
    "plt.xlim((0, NEW_LON))\n",
    "plt.ylim((0, NEW_LAT))\n",
    "\n",
    "ax_encoder.spines['right'].set_color('none')\n",
    "ax_encoder.spines['left'].set_color('none')\n",
    "ax_encoder.spines['top'].set_color('none')\n",
    "ax_encoder.spines['bottom'].set_color('none')\n",
    "\n",
    "ax_encoder.set_xlabel(\"LONGITUDE\")\n",
    "ax_encoder.set_ylabel(\"LATITUDE\")\n",
    "ax_encoder.set_title(\"Encoded SST Representation, Class =\"+str(n_cluster))\n",
    "plt.savefig(\"pics/{}_kmeans_encoder.pdf\".format(DATASET))"
   ]
  },
  {
   "cell_type": "markdown",
   "metadata": {},
   "source": [
    "## 3.attention数据"
   ]
  },
  {
   "cell_type": "code",
   "execution_count": 7,
   "metadata": {},
   "outputs": [
    {
     "name": "stdout",
     "output_type": "stream",
     "text": [
      "------------------------\n",
      "n_cluster=4:\n",
      "(1708,)\n"
     ]
    }
   ],
   "source": [
    "from sklearn.cluster import KMeans\n",
    "knnModel_attention = KMeans(n_clusters=n_cluster, random_state=10)\n",
    "print('------------------------')\n",
    "print('n_cluster={}:'.format(n_cluster))\n",
    "knnModel_attention.fit(adj)\n",
    "label_attention = knnModel_attention.labels_\n",
    "\n",
    "print(label_attention.shape)\n",
    "\n",
    "label_attention_new = np.zeros((NEW_LAT,NEW_LON))\n",
    "\n",
    "for i in range(NEW_LAT):\n",
    "    for j in range(NEW_LON):\n",
    "        label_attention_new[i,j] = -1\n",
    "for i in range(COUNT):\n",
    "    label_attention_new[int(corordinate[i,1]+0.2),int(corordinate[i,0]+0.2)] = label_attention[i]\n",
    "\n",
    "# np.savez('./data/{}/{}_CLASSINFO.npz'.format(DATASET, DATASET), classinfo = label_attention)"
   ]
  },
  {
   "cell_type": "code",
   "execution_count": 8,
   "metadata": {},
   "outputs": [
    {
     "data": {
      "image/png": "[encoded data removed]",
      "text/plain": [
       "<Figure size 432x360 with 1 Axes>"
      ]
     },
     "metadata": {
      "needs_background": "light"
     },
     "output_type": "display_data"
    }
   ],
   "source": [
    "fig_attention = plt.figure(figsize=(6,5))\n",
    "ax_attention = fig_attention.add_subplot(1,1,1)\n",
    "\n",
    "ax_attention.matshow(label_attention_new, norm = matplotlib.colors.Normalize(vmin=-1, vmax=n_cluster-1, clip=False),cmap=plt.cm.tab20c_r)\n",
    "\n",
    "ax_attention.set_xticks([i - FROM_LON for i in range(FROM_LON, (END_LON+360)+1, 10)])\n",
    "ax_attention.set_xticklabels([str((i%360) if i %360 < 180 else 360-(i%360))+\"$\\degree$\"+('E' if (i%360)<180 and (i%360)>0 else ('W' if (i%360)>180 else '')) for i in range(FROM_LON*SCALE//RATIO, (END_LON+360)*SCALE//RATIO+1, 10*SCALE//RATIO)])\n",
    "ax_attention.set_yticks([i - FROM_LAT for i in range(FROM_LAT, END_LAT+1, 5)])\n",
    "ax_attention.set_yticklabels([str(i-90 if i>90 else 90-i)+\"$\\degree$\"+('N' if i>90 else ('S' if i < 90 else '')) for i in range(FROM_LAT*SCALE//RATIO, END_LAT*SCALE//RATIO+1, 5*SCALE//RATIO)])\n",
    "ax_attention.xaxis.tick_bottom()\n",
    "\n",
    "plt.xlim((0, NEW_LON))\n",
    "plt.ylim((0, NEW_LAT))\n",
    "\n",
    "ax_attention.spines['right'].set_color('none')\n",
    "ax_attention.spines['left'].set_color('none')\n",
    "ax_attention.spines['top'].set_color('none')\n",
    "ax_attention.spines['bottom'].set_color('none')\n",
    "\n",
    "ax_attention.set_xlabel(\"LONGITUDE\")\n",
    "ax_attention.set_ylabel(\"LATITUDE\")\n",
    "ax_attention.set_title(\"Attention Matrix, Class =\"+str(n_cluster))\n",
    "plt.savefig(\"pics/{}_kmeans_attention.pdf\".format(DATASET))"
   ]
  }
 ],
 "metadata": {
  "kernelspec": {
   "display_name": "Python 3.7.6 ('base')",
   "language": "python",
   "name": "python3"
  },
  "language_info": {
   "codemirror_mode": {
    "name": "ipython",
    "version": 3
   },
   "file_extension": ".py",
   "mimetype": "text/x-python",
   "name": "python",
   "nbconvert_exporter": "python",
   "pygments_lexer": "ipython3",
   "version": "3.7.6"
  },
  "orig_nbformat": 4,
  "vscode": {
   "interpreter": {
    "hash": "eb92be7540e376097371d9cb2c50d94f8ba175cd457e138582c41a0918efdb29"
   }
  }
 },
 "nbformat": 4,
 "nbformat_minor": 2
}
